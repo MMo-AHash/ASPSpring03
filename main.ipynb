{
 "cells": [
  {
   "cell_type": "markdown",
   "id": "f1e6d7ca",
   "metadata": {},
   "source": [
    "<center><img src=\"unnamed.png\" width=\"40%\"></center>"
   ]
  },
  {
   "cell_type": "markdown",
   "id": "7eda65c9",
   "metadata": {},
   "source": [
    "<div dir=\"rtl\">\n",
    "تحقق دو عدد گوسی از روش خاص خود\n",
    "(\n",
    "    روش تبدیل\n",
    "    Box- Muller\n",
    ")\n",
    "\n",
    "</div>"
   ]
  },
  {
   "cell_type": "code",
   "execution_count": 2,
   "id": "c4510aba",
   "metadata": {},
   "outputs": [
    {
     "name": "stdout",
     "output_type": "stream",
     "text": [
      "array('f', [-1.3147265911102295, -0.8379020094871521])\n"
     ]
    }
   ],
   "source": [
    "from random import random\n",
    "from math import log, sin, cos, sqrt, pi\n",
    "from array import array\n",
    "\n",
    "HowMuch :int = 2\n",
    "GuassianArray :array = array('f', (0 for _ in range(HowMuch)))\n",
    "\n",
    "for i in range(0,HowMuch,2):\n",
    "    U1 = random()\n",
    "    U2 = random()\n",
    "    \n",
    "    # GausianVector Position\n",
    "    R = sqrt(-2 * log(U2))\n",
    "    tetha = 2 * pi * U1\n",
    "    GuassianArray[i] = R * sin(tetha)\n",
    "    GuassianArray[i+1] = R * cos(tetha)\n",
    "\n",
    "print(GuassianArray)\n",
    "\n"
   ]
  }
 ],
 "metadata": {
  "kernelspec": {
   "display_name": ".venv",
   "language": "python",
   "name": "python3"
  },
  "language_info": {
   "name": "python",
   "version": "3.13.3"
  }
 },
 "nbformat": 4,
 "nbformat_minor": 5
}
