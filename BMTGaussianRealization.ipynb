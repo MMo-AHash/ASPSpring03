{
 "cells": [
  {
   "cell_type": "markdown",
   "id": "7eda65c9",
   "metadata": {},
   "source": [
    "<div dir=\"rtl\">\n",
    "تحقق دو عدد گوسی از روش خاص خود\n",
    "(\n",
    "    روش تبدیل\n",
    "    Box- Muller\n",
    ")\n",
    "\n",
    "</div>"
   ]
  },
  {
   "cell_type": "code",
   "execution_count": null,
   "id": "c4510aba",
   "metadata": {},
   "outputs": [
    {
     "name": "stdout",
     "output_type": "stream",
     "text": [
      "array('f', [-2.240125894546509, -1.3635717630386353, -0.05393143743276596, 1.4129698276519775, 2.092890739440918, -0.5022746920585632, 1.5893807411193848, -0.3000170588493347, 0.34471267461776733, -0.24513602256774902])\n"
     ]
    }
   ],
   "source": [
    "from random import random\n",
    "from math import log, sin, cos, sqrt, pi\n",
    "from array import array\n",
    "\n",
    "HowMuch :int = 2\n",
    "GuassianArray :array = array('f', (0 for _ in range(HowMuch)))\n",
    "\n",
    "for i in range(0,HowMuch,2):\n",
    "    U1 = random()\n",
    "    U2 = random()\n",
    "    \n",
    "    # GausianVector Position\n",
    "    R = sqrt(-2 * log(U2))\n",
    "    tetha = 2 * pi * U1\n",
    "    GuassianArray[i] = R * sin(tetha)\n",
    "    GuassianArray[i+1] = R * cos(tetha)\n",
    "\n",
    "print(GuassianArray)\n",
    "\n"
   ]
  }
 ],
 "metadata": {
  "kernelspec": {
   "display_name": ".venv",
   "language": "python",
   "name": "python3"
  },
  "language_info": {
   "codemirror_mode": {
    "name": "ipython",
    "version": 3
   },
   "file_extension": ".py",
   "mimetype": "text/x-python",
   "name": "python",
   "nbconvert_exporter": "python",
   "pygments_lexer": "ipython3",
   "version": "3.12.7"
  }
 },
 "nbformat": 4,
 "nbformat_minor": 5
}
